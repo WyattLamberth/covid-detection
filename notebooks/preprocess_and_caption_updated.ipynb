{
 "cells": [
  {
   "cell_type": "markdown",
   "id": "03f28194",
   "metadata": {},
   "source": [
    "# This is only a rough draft for our image preprocessing and captioning pipeline.\n",
    "# We will refactor this into its own script later."
   ]
  },
  {
   "cell_type": "markdown",
   "id": "00023388",
   "metadata": {},
   "source": [
    "Setup"
   ]
  },
  {
   "cell_type": "code",
   "execution_count": 1,
   "id": "1bbbf226",
   "metadata": {},
   "outputs": [],
   "source": [
    "import pandas as pd\n",
    "from pathlib import Path\n",
    "\n",
    "# Use shared project paths\n",
    "PROJECT_ROOT = Path().resolve().parent  # if running from notebooks/\n",
    "RAW_DATA_DIR = PROJECT_ROOT / \"data\" / \"raw\"\n",
    "CSV_PATH = RAW_DATA_DIR / \"Chest_xray_Corona_Metadata.csv\"  # adjust if different\n",
    "IMG_DIR = RAW_DATA_DIR / \"images\"  # adjust if needed"
   ]
  },
  {
   "cell_type": "markdown",
   "id": "7b2b38c0",
   "metadata": {},
   "source": [
    "Load the Metadata"
   ]
  },
  {
   "cell_type": "code",
   "execution_count": 2,
   "id": "84a2f85d",
   "metadata": {},
   "outputs": [
    {
     "name": "stdout",
     "output_type": "stream",
     "text": [
      "Original shape: (5910, 6)\n"
     ]
    },
    {
     "data": {
      "text/html": [
       "<div>\n",
       "<style scoped>\n",
       "    .dataframe tbody tr th:only-of-type {\n",
       "        vertical-align: middle;\n",
       "    }\n",
       "\n",
       "    .dataframe tbody tr th {\n",
       "        vertical-align: top;\n",
       "    }\n",
       "\n",
       "    .dataframe thead th {\n",
       "        text-align: right;\n",
       "    }\n",
       "</style>\n",
       "<table border=\"1\" class=\"dataframe\">\n",
       "  <thead>\n",
       "    <tr style=\"text-align: right;\">\n",
       "      <th></th>\n",
       "      <th>Unnamed: 0</th>\n",
       "      <th>X_ray_image_name</th>\n",
       "      <th>Label</th>\n",
       "      <th>Dataset_type</th>\n",
       "      <th>Label_2_Virus_category</th>\n",
       "      <th>Label_1_Virus_category</th>\n",
       "    </tr>\n",
       "  </thead>\n",
       "  <tbody>\n",
       "    <tr>\n",
       "      <th>0</th>\n",
       "      <td>0</td>\n",
       "      <td>IM-0128-0001.jpeg</td>\n",
       "      <td>Normal</td>\n",
       "      <td>TRAIN</td>\n",
       "      <td>NaN</td>\n",
       "      <td>NaN</td>\n",
       "    </tr>\n",
       "    <tr>\n",
       "      <th>1</th>\n",
       "      <td>1</td>\n",
       "      <td>IM-0127-0001.jpeg</td>\n",
       "      <td>Normal</td>\n",
       "      <td>TRAIN</td>\n",
       "      <td>NaN</td>\n",
       "      <td>NaN</td>\n",
       "    </tr>\n",
       "    <tr>\n",
       "      <th>2</th>\n",
       "      <td>2</td>\n",
       "      <td>IM-0125-0001.jpeg</td>\n",
       "      <td>Normal</td>\n",
       "      <td>TRAIN</td>\n",
       "      <td>NaN</td>\n",
       "      <td>NaN</td>\n",
       "    </tr>\n",
       "    <tr>\n",
       "      <th>3</th>\n",
       "      <td>3</td>\n",
       "      <td>IM-0122-0001.jpeg</td>\n",
       "      <td>Normal</td>\n",
       "      <td>TRAIN</td>\n",
       "      <td>NaN</td>\n",
       "      <td>NaN</td>\n",
       "    </tr>\n",
       "    <tr>\n",
       "      <th>4</th>\n",
       "      <td>4</td>\n",
       "      <td>IM-0119-0001.jpeg</td>\n",
       "      <td>Normal</td>\n",
       "      <td>TRAIN</td>\n",
       "      <td>NaN</td>\n",
       "      <td>NaN</td>\n",
       "    </tr>\n",
       "  </tbody>\n",
       "</table>\n",
       "</div>"
      ],
      "text/plain": [
       "   Unnamed: 0   X_ray_image_name   Label Dataset_type Label_2_Virus_category  \\\n",
       "0           0  IM-0128-0001.jpeg  Normal        TRAIN                    NaN   \n",
       "1           1  IM-0127-0001.jpeg  Normal        TRAIN                    NaN   \n",
       "2           2  IM-0125-0001.jpeg  Normal        TRAIN                    NaN   \n",
       "3           3  IM-0122-0001.jpeg  Normal        TRAIN                    NaN   \n",
       "4           4  IM-0119-0001.jpeg  Normal        TRAIN                    NaN   \n",
       "\n",
       "  Label_1_Virus_category  \n",
       "0                    NaN  \n",
       "1                    NaN  \n",
       "2                    NaN  \n",
       "3                    NaN  \n",
       "4                    NaN  "
      ]
     },
     "execution_count": 2,
     "metadata": {},
     "output_type": "execute_result"
    }
   ],
   "source": [
    "df = pd.read_csv(CSV_PATH)\n",
    "print(\"Original shape:\", df.shape)\n",
    "df.head()"
   ]
  },
  {
   "cell_type": "markdown",
   "id": "134d12c7",
   "metadata": {},
   "source": [
    "Clean the data"
   ]
  },
  {
   "cell_type": "code",
   "execution_count": 3,
   "id": "bfd4c826",
   "metadata": {},
   "outputs": [
    {
     "name": "stdout",
     "output_type": "stream",
     "text": [
      "Cleaned shape: (5910, 6)\n"
     ]
    },
    {
     "data": {
      "text/plain": [
       "Label\n",
       "Pnemonia    4334\n",
       "Normal      1576\n",
       "Name: count, dtype: int64"
      ]
     },
     "execution_count": 3,
     "metadata": {},
     "output_type": "execute_result"
    }
   ],
   "source": [
    "# Drop rows with missing image names or labels\n",
    "df = df.dropna(subset=[\"X_ray_image_name\", \"Label\"])\n",
    "df = df.drop_duplicates(subset=[\"X_ray_image_name\"])\n",
    "print(\"Cleaned shape:\", df.shape)\n",
    "\n",
    "# Quick check\n",
    "df[\"Label\"].value_counts()"
   ]
  },
  {
   "cell_type": "markdown",
   "id": "a4087f41",
   "metadata": {},
   "source": [
    "Define rule based caption function"
   ]
  },
  {
   "cell_type": "code",
   "execution_count": 4,
   "id": "c2de2b5d",
   "metadata": {},
   "outputs": [],
   "source": [
    "def generate_caption(row):\n",
    "    label = row[\"Label\"]\n",
    "    virus_1 = row.get(\"Label_1_Virus_category\")\n",
    "    virus_2 = row.get(\"Label_2_Virus_category\")\n",
    "\n",
    "    if label == \"Normal\":\n",
    "        return \"No signs of pneumonia.\"\n",
    "\n",
    "    elif label == \"Pnemonia\":\n",
    "        if virus_2 == \"COVID-19\":\n",
    "            return \"Lung opacity consistent with COVID-19.\"\n",
    "        elif virus_2 in {\"SARS\", \"ARDS\", \"Streptococcus\"}:\n",
    "            return \"Signs of pneumonia, likely viral origin.\"\n",
    "        elif virus_1 == \"bacteria\":\n",
    "            return \"Pneumonia likely due to bacterial infection.\"\n",
    "        elif virus_1 == \"Virus\":\n",
    "            return \"Pneumonia likely due to viral infection.\"\n",
    "        else:\n",
    "            return \"Pneumonia detected.\"\n",
    "\n",
    "    return \"Unspecified condition.\""
   ]
  },
  {
   "cell_type": "markdown",
   "id": "385a663c",
   "metadata": {},
   "source": [
    "Apply captions"
   ]
  },
  {
   "cell_type": "code",
   "execution_count": 5,
   "id": "19599c63",
   "metadata": {},
   "outputs": [
    {
     "data": {
      "text/html": [
       "<div>\n",
       "<style scoped>\n",
       "    .dataframe tbody tr th:only-of-type {\n",
       "        vertical-align: middle;\n",
       "    }\n",
       "\n",
       "    .dataframe tbody tr th {\n",
       "        vertical-align: top;\n",
       "    }\n",
       "\n",
       "    .dataframe thead th {\n",
       "        text-align: right;\n",
       "    }\n",
       "</style>\n",
       "<table border=\"1\" class=\"dataframe\">\n",
       "  <thead>\n",
       "    <tr style=\"text-align: right;\">\n",
       "      <th></th>\n",
       "      <th>X_ray_image_name</th>\n",
       "      <th>Label</th>\n",
       "      <th>Label_1_Virus_category</th>\n",
       "      <th>Label_2_Virus_category</th>\n",
       "      <th>caption</th>\n",
       "    </tr>\n",
       "  </thead>\n",
       "  <tbody>\n",
       "    <tr>\n",
       "      <th>0</th>\n",
       "      <td>IM-0128-0001.jpeg</td>\n",
       "      <td>Normal</td>\n",
       "      <td>NaN</td>\n",
       "      <td>NaN</td>\n",
       "      <td>No signs of pneumonia.</td>\n",
       "    </tr>\n",
       "    <tr>\n",
       "      <th>1</th>\n",
       "      <td>IM-0127-0001.jpeg</td>\n",
       "      <td>Normal</td>\n",
       "      <td>NaN</td>\n",
       "      <td>NaN</td>\n",
       "      <td>No signs of pneumonia.</td>\n",
       "    </tr>\n",
       "    <tr>\n",
       "      <th>2</th>\n",
       "      <td>IM-0125-0001.jpeg</td>\n",
       "      <td>Normal</td>\n",
       "      <td>NaN</td>\n",
       "      <td>NaN</td>\n",
       "      <td>No signs of pneumonia.</td>\n",
       "    </tr>\n",
       "    <tr>\n",
       "      <th>3</th>\n",
       "      <td>IM-0122-0001.jpeg</td>\n",
       "      <td>Normal</td>\n",
       "      <td>NaN</td>\n",
       "      <td>NaN</td>\n",
       "      <td>No signs of pneumonia.</td>\n",
       "    </tr>\n",
       "    <tr>\n",
       "      <th>4</th>\n",
       "      <td>IM-0119-0001.jpeg</td>\n",
       "      <td>Normal</td>\n",
       "      <td>NaN</td>\n",
       "      <td>NaN</td>\n",
       "      <td>No signs of pneumonia.</td>\n",
       "    </tr>\n",
       "    <tr>\n",
       "      <th>5</th>\n",
       "      <td>IM-0117-0001.jpeg</td>\n",
       "      <td>Normal</td>\n",
       "      <td>NaN</td>\n",
       "      <td>NaN</td>\n",
       "      <td>No signs of pneumonia.</td>\n",
       "    </tr>\n",
       "    <tr>\n",
       "      <th>6</th>\n",
       "      <td>IM-0115-0001.jpeg</td>\n",
       "      <td>Normal</td>\n",
       "      <td>NaN</td>\n",
       "      <td>NaN</td>\n",
       "      <td>No signs of pneumonia.</td>\n",
       "    </tr>\n",
       "    <tr>\n",
       "      <th>7</th>\n",
       "      <td>IM-0189-0001.jpeg</td>\n",
       "      <td>Normal</td>\n",
       "      <td>NaN</td>\n",
       "      <td>NaN</td>\n",
       "      <td>No signs of pneumonia.</td>\n",
       "    </tr>\n",
       "    <tr>\n",
       "      <th>8</th>\n",
       "      <td>IM-0187-0001.jpeg</td>\n",
       "      <td>Normal</td>\n",
       "      <td>NaN</td>\n",
       "      <td>NaN</td>\n",
       "      <td>No signs of pneumonia.</td>\n",
       "    </tr>\n",
       "    <tr>\n",
       "      <th>9</th>\n",
       "      <td>IM-0185-0001.jpeg</td>\n",
       "      <td>Normal</td>\n",
       "      <td>NaN</td>\n",
       "      <td>NaN</td>\n",
       "      <td>No signs of pneumonia.</td>\n",
       "    </tr>\n",
       "  </tbody>\n",
       "</table>\n",
       "</div>"
      ],
      "text/plain": [
       "    X_ray_image_name   Label Label_1_Virus_category Label_2_Virus_category  \\\n",
       "0  IM-0128-0001.jpeg  Normal                    NaN                    NaN   \n",
       "1  IM-0127-0001.jpeg  Normal                    NaN                    NaN   \n",
       "2  IM-0125-0001.jpeg  Normal                    NaN                    NaN   \n",
       "3  IM-0122-0001.jpeg  Normal                    NaN                    NaN   \n",
       "4  IM-0119-0001.jpeg  Normal                    NaN                    NaN   \n",
       "5  IM-0117-0001.jpeg  Normal                    NaN                    NaN   \n",
       "6  IM-0115-0001.jpeg  Normal                    NaN                    NaN   \n",
       "7  IM-0189-0001.jpeg  Normal                    NaN                    NaN   \n",
       "8  IM-0187-0001.jpeg  Normal                    NaN                    NaN   \n",
       "9  IM-0185-0001.jpeg  Normal                    NaN                    NaN   \n",
       "\n",
       "                  caption  \n",
       "0  No signs of pneumonia.  \n",
       "1  No signs of pneumonia.  \n",
       "2  No signs of pneumonia.  \n",
       "3  No signs of pneumonia.  \n",
       "4  No signs of pneumonia.  \n",
       "5  No signs of pneumonia.  \n",
       "6  No signs of pneumonia.  \n",
       "7  No signs of pneumonia.  \n",
       "8  No signs of pneumonia.  \n",
       "9  No signs of pneumonia.  "
      ]
     },
     "execution_count": 5,
     "metadata": {},
     "output_type": "execute_result"
    }
   ],
   "source": [
    "df[\"caption\"] = df.apply(generate_caption, axis=1)\n",
    "df[[\"X_ray_image_name\", \"Label\", \"Label_1_Virus_category\", \"Label_2_Virus_category\", \"caption\"]].head(10)"
   ]
  },
  {
   "cell_type": "code",
   "execution_count": 6,
   "id": "fcb6122d",
   "metadata": {},
   "outputs": [
    {
     "name": "stdout",
     "output_type": "stream",
     "text": [
      "Valid image paths: 5910 / 5910\n"
     ]
    }
   ],
   "source": [
    "# Add full image path using Dataset_type (train/test) and image name\n",
    "df[\"image_path\"] = df.apply(\n",
    "    lambda row: RAW_DATA_DIR / \"Coronahack-Chest-XRay-Dataset\" / \"Coronahack-Chest-XRay-Dataset\" / row[\"Dataset_type\"] / row[\"X_ray_image_name\"],\n",
    "    axis=1\n",
    ")\n",
    "\n",
    "# Filter out entries with missing files\n",
    "valid = df[\"image_path\"].apply(lambda p: p.exists())\n",
    "print(f\"Valid image paths: {valid.sum()} / {len(df)}\")\n",
    "df = df[valid]"
   ]
  },
  {
   "cell_type": "markdown",
   "id": "a60ed9f3",
   "metadata": {},
   "source": [
    "explore the result"
   ]
  },
  {
   "cell_type": "code",
   "execution_count": 7,
   "id": "000a83b3",
   "metadata": {},
   "outputs": [
    {
     "data": {
      "text/plain": [
       "caption\n",
       "Pneumonia likely due to bacterial infection.    2772\n",
       "No signs of pneumonia.                          1576\n",
       "Pneumonia likely due to viral infection.        1493\n",
       "Lung opacity consistent with COVID-19.            58\n",
       "Signs of pneumonia, likely viral origin.          11\n",
       "Name: count, dtype: int64"
      ]
     },
     "execution_count": 7,
     "metadata": {},
     "output_type": "execute_result"
    }
   ],
   "source": [
    "df[\"caption\"].value_counts()"
   ]
  },
  {
   "cell_type": "markdown",
   "id": "caf0204f",
   "metadata": {},
   "source": [
    "Save the output for training"
   ]
  },
  {
   "cell_type": "code",
   "execution_count": 9,
   "id": "f04e3ee7",
   "metadata": {},
   "outputs": [
    {
     "name": "stdout",
     "output_type": "stream",
     "text": [
      "Saved to /Users/wyattlamberth/dev/ai/covid-detection/data/raw/Coronahack-Chest-XRay-Dataset/Coronahack-Chest-XRay-Dataset/image_captions.csv\n"
     ]
    }
   ],
   "source": [
    "# Save as CSV for later training\n",
    "out_path = RAW_DATA_DIR / \"Coronahack-Chest-XRay-Dataset\" / \"Coronahack-Chest-XRay-Dataset\" / \"image_captions.csv\"\n",
    "df.to_csv(out_path, index=False)\n",
    "print(f\"Saved to {out_path}\")"
   ]
  }
 ],
 "metadata": {
  "kernelspec": {
   "display_name": ".venv",
   "language": "python",
   "name": "python3"
  },
  "language_info": {
   "codemirror_mode": {
    "name": "ipython",
    "version": 3
   },
   "file_extension": ".py",
   "mimetype": "text/x-python",
   "name": "python",
   "nbconvert_exporter": "python",
   "pygments_lexer": "ipython3",
   "version": "3.9.6"
  }
 },
 "nbformat": 4,
 "nbformat_minor": 5
}
